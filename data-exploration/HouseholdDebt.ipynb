{
  "nbformat": 4,
  "nbformat_minor": 0,
  "metadata": {
    "colab": {
      "name": "HouseholdDebt.ipynb",
      "provenance": [],
      "collapsed_sections": []
    },
    "kernelspec": {
      "name": "python3",
      "display_name": "Python 3"
    }
  },
  "cells": [
    {
      "cell_type": "code",
      "metadata": {
        "id": "tigxt-0BJmdE",
        "colab_type": "code",
        "colab": {}
      },
      "source": [
        "import sqlite3"
      ],
      "execution_count": 0,
      "outputs": []
    },
    {
      "cell_type": "code",
      "metadata": {
        "id": "FRf6HYebKJST",
        "colab_type": "code",
        "colab": {}
      },
      "source": [
        "conn = sqlite3.connect(\"teamfed.db\")"
      ],
      "execution_count": 0,
      "outputs": []
    },
    {
      "cell_type": "code",
      "metadata": {
        "id": "7zuTHeysKNOM",
        "colab_type": "code",
        "colab": {}
      },
      "source": [
        "c = conn.cursor()"
      ],
      "execution_count": 0,
      "outputs": []
    },
    {
      "cell_type": "code",
      "metadata": {
        "id": "cCcwFWSpKSmL",
        "colab_type": "code",
        "outputId": "3dae67b0-2eb2-4535-8b3d-ba1666a2b713",
        "colab": {
          "base_uri": "https://localhost:8080/",
          "height": 1000
        }
      },
      "source": [
        "c.execute(\"select * from HouseHoldDebtByState where state_fips='06'\").fetchall()"
      ],
      "execution_count": 0,
      "outputs": [
        {
          "output_type": "execute_result",
          "data": {
            "text/plain": [
              "[(5, 1999, 1, '06', 1.62, 1.75),\n",
              " (56, 1999, 2, '06', 1.62, 1.75),\n",
              " (107, 1999, 3, '06', 1.62, 1.75),\n",
              " (158, 1999, 4, '06', 1.33, 1.41),\n",
              " (209, 2000, 1, '06', 1.41, 1.51),\n",
              " (260, 2000, 2, '06', 1.51, 1.62),\n",
              " (311, 2000, 3, '06', 1.51, 1.62),\n",
              " (362, 2000, 4, '06', 1.41, 1.51),\n",
              " (413, 2001, 1, '06', 1.51, 1.62),\n",
              " (464, 2001, 2, '06', 1.51, 1.62),\n",
              " (515, 2001, 3, '06', 1.62, 1.75),\n",
              " (566, 2001, 4, '06', 1.51, 1.62),\n",
              " (617, 2002, 1, '06', 1.75, 1.89),\n",
              " (668, 2002, 2, '06', 1.75, 1.89),\n",
              " (719, 2002, 3, '06', 1.89, 2.13),\n",
              " (770, 2002, 4, '06', 1.75, 1.89),\n",
              " (821, 2003, 1, '06', 1.89, 2.13),\n",
              " (872, 2003, 2, '06', 1.89, 2.13),\n",
              " (923, 2003, 3, '06', 1.89, 2.13),\n",
              " (974, 2003, 4, '06', 1.89, 2.13),\n",
              " (1025, 2004, 1, '06', 2.13, None),\n",
              " (1076, 2004, 2, '06', 2.13, None),\n",
              " (1127, 2004, 3, '06', 2.13, None),\n",
              " (1178, 2004, 4, '06', 2.13, None),\n",
              " (1229, 2005, 1, '06', 2.13, None),\n",
              " (1280, 2005, 2, '06', 2.13, None),\n",
              " (1331, 2005, 3, '06', 2.13, None),\n",
              " (1382, 2005, 4, '06', 2.13, None),\n",
              " (1433, 2006, 1, '06', 2.13, None),\n",
              " (1484, 2006, 2, '06', 2.13, None),\n",
              " (1535, 2006, 3, '06', 2.13, None),\n",
              " (1586, 2006, 4, '06', 2.13, None),\n",
              " (1637, 2007, 1, '06', 2.13, None),\n",
              " (1688, 2007, 2, '06', 2.13, None),\n",
              " (1739, 2007, 3, '06', 2.13, None),\n",
              " (1790, 2007, 4, '06', 2.13, None),\n",
              " (1841, 2008, 1, '06', 2.13, None),\n",
              " (1892, 2008, 2, '06', 2.13, None),\n",
              " (1943, 2008, 3, '06', 2.13, None),\n",
              " (1994, 2008, 4, '06', 2.13, None),\n",
              " (2045, 2009, 1, '06', 2.13, None),\n",
              " (2096, 2009, 2, '06', 2.13, None),\n",
              " (2147, 2009, 3, '06', 2.13, None),\n",
              " (2198, 2009, 4, '06', 2.13, None),\n",
              " (2249, 2010, 1, '06', 2.13, None),\n",
              " (2300, 2010, 2, '06', 2.13, None),\n",
              " (2351, 2010, 3, '06', 2.13, None),\n",
              " (2402, 2010, 4, '06', 2.13, None),\n",
              " (2453, 2011, 1, '06', 2.13, None),\n",
              " (2504, 2011, 2, '06', 2.13, None),\n",
              " (2555, 2011, 3, '06', 2.13, None),\n",
              " (2606, 2011, 4, '06', 2.13, None),\n",
              " (2657, 2012, 1, '06', 2.13, None),\n",
              " (2708, 2012, 2, '06', 2.13, None),\n",
              " (2759, 2012, 3, '06', 2.13, None),\n",
              " (2810, 2012, 4, '06', 1.89, 2.13),\n",
              " (2861, 2013, 1, '06', 1.89, 2.13),\n",
              " (2912, 2013, 2, '06', 2.13, None),\n",
              " (2963, 2013, 3, '06', 2.13, None),\n",
              " (3014, 2013, 4, '06', 1.89, 2.13),\n",
              " (3065, 2014, 1, '06', 1.89, 2.13),\n",
              " (3116, 2014, 2, '06', 1.89, 2.13),\n",
              " (3167, 2014, 3, '06', 1.89, 2.13),\n",
              " (3218, 2014, 4, '06', 1.75, 1.89),\n",
              " (3269, 2015, 1, '06', 1.75, 1.89),\n",
              " (3320, 2015, 2, '06', 1.89, 2.13),\n",
              " (3371, 2015, 3, '06', 1.89, 2.13),\n",
              " (3422, 2015, 4, '06', 1.62, 1.75),\n",
              " (3473, 2016, 1, '06', 1.89, 2.13),\n",
              " (3524, 2016, 2, '06', 1.89, 2.13),\n",
              " (3575, 2016, 3, '06', 1.75, 1.89),\n",
              " (3626, 2016, 4, '06', 1.75, 1.89),\n",
              " (3677, 2017, 1, '06', 1.75, 1.89),\n",
              " (3728, 2017, 2, '06', 1.75, 1.89),\n",
              " (3779, 2017, 3, '06', 1.89, 2.13),\n",
              " (3830, 2017, 4, '06', 1.62, 1.75),\n",
              " (3881, 2018, 1, '06', 1.62, 1.75),\n",
              " (3932, 2018, 2, '06', 1.75, 1.89),\n",
              " (3983, 2018, 3, '06', 1.75, 1.89),\n",
              " (4034, 2018, 4, '06', 1.62, 1.75)]"
            ]
          },
          "metadata": {
            "tags": []
          },
          "execution_count": 64
        }
      ]
    },
    {
      "cell_type": "code",
      "metadata": {
        "id": "vkbQL4gDKf3Q",
        "colab_type": "code",
        "outputId": "e10e33ee-86df-44a1-c3e8-aba4cd8ca8dd",
        "colab": {
          "base_uri": "https://localhost:8080/",
          "height": 131
        }
      },
      "source": [
        "c.description"
      ],
      "execution_count": 0,
      "outputs": [
        {
          "output_type": "execute_result",
          "data": {
            "text/plain": [
              "(('id', None, None, None, None, None, None),\n",
              " ('year', None, None, None, None, None, None),\n",
              " ('qtr', None, None, None, None, None, None),\n",
              " ('state_fips', None, None, None, None, None, None),\n",
              " ('low', None, None, None, None, None, None),\n",
              " ('high', None, None, None, None, None, None))"
            ]
          },
          "metadata": {
            "tags": []
          },
          "execution_count": 10
        }
      ]
    },
    {
      "cell_type": "code",
      "metadata": {
        "id": "-Bl9lgOvTP_P",
        "colab_type": "code",
        "outputId": "d1a7e85d-09aa-4f7d-ded0-325dd21602a2",
        "colab": {
          "base_uri": "https://localhost:8080/",
          "height": 207
        }
      },
      "source": [
        "c.execute(\"select * from GDP where date>=1999\").fetchmany(10)"
      ],
      "execution_count": 0,
      "outputs": [
        {
          "output_type": "execute_result",
          "data": {
            "text/plain": [
              "[(209, '1999-01-01', 9417.264),\n",
              " (210, '1999-04-01', 9524.152),\n",
              " (211, '1999-07-01', 9681.856),\n",
              " (212, '1999-10-01', 9899.378),\n",
              " (213, '2000-01-01', 10002.857),\n",
              " (214, '2000-04-01', 10247.679),\n",
              " (215, '2000-07-01', 10319.825),\n",
              " (216, '2000-10-01', 10439.025),\n",
              " (217, '2001-01-01', 10472.879),\n",
              " (218, '2001-04-01', 10597.822)]"
            ]
          },
          "metadata": {
            "tags": []
          },
          "execution_count": 32
        }
      ]
    },
    {
      "cell_type": "code",
      "metadata": {
        "id": "CrNtd8gZTZyM",
        "colab_type": "code",
        "outputId": "fbcc9c6c-d24a-42cb-d589-63f9b26b1ab7",
        "colab": {
          "base_uri": "https://localhost:8080/",
          "height": 74
        }
      },
      "source": [
        "c.description"
      ],
      "execution_count": 0,
      "outputs": [
        {
          "output_type": "execute_result",
          "data": {
            "text/plain": [
              "(('id', None, None, None, None, None, None),\n",
              " ('date', None, None, None, None, None, None),\n",
              " ('gdp', None, None, None, None, None, None))"
            ]
          },
          "metadata": {
            "tags": []
          },
          "execution_count": 33
        }
      ]
    },
    {
      "cell_type": "markdown",
      "metadata": {
        "id": "9Fb3FWxdbiB5",
        "colab_type": "text"
      },
      "source": [
        "CA Debt and GDP in 3rd quarter"
      ]
    },
    {
      "cell_type": "code",
      "metadata": {
        "id": "KQ2rM5AfNzbo",
        "colab_type": "code",
        "outputId": "41a5b4ef-bc74-4344-d2b2-d4e89f2e0cf4",
        "colab": {
          "base_uri": "https://localhost:8080/",
          "height": 398
        }
      },
      "source": [
        "data = c.execute('''\n",
        "select debt.year,low hh_debt,gdp from HouseHoldDebtByState debt join (select substr(date,0,5) year,substr(date,6,2) month,gdp from Gdp where date >= 1990) gdp\n",
        " on debt.year=gdp.year where debt.qtr=3 and debt.state_fips='06' and gdp.month='10'\n",
        " ''').fetchall() #be careful, the date is just a string\n",
        "data"
      ],
      "execution_count": 0,
      "outputs": [
        {
          "output_type": "execute_result",
          "data": {
            "text/plain": [
              "[(1999, 1.62, 9899.378),\n",
              " (2000, 1.51, 10439.025),\n",
              " (2001, 1.62, 10660.294),\n",
              " (2002, 1.89, 11071.463),\n",
              " (2003, 1.89, 11769.275),\n",
              " (2004, 2.13, 12522.425),\n",
              " (2005, 2.13, 13332.316),\n",
              " (2006, 2.13, 14037.228),\n",
              " (2007, 2.13, 14681.501),\n",
              " (2008, 2.13, 14559.543),\n",
              " (2009, 2.13, 14628.021),\n",
              " (2010, 2.13, 15240.843),\n",
              " (2011, 2.13, 15796.46),\n",
              " (2012, 2.13, 16358.863),\n",
              " (2013, 2.13, 17083.137),\n",
              " (2014, 1.89, 17849.912),\n",
              " (2015, 1.89, 18350.825),\n",
              " (2016, 1.75, 18991.883),\n",
              " (2017, 1.89, 19918.91),\n",
              " (2018, 1.75, 20897.804)]"
            ]
          },
          "metadata": {
            "tags": []
          },
          "execution_count": 151
        }
      ]
    },
    {
      "cell_type": "code",
      "metadata": {
        "id": "r7auR5tAOD93",
        "colab_type": "code",
        "outputId": "8b672c81-9111-4159-de14-ac36c40598f4",
        "colab": {
          "base_uri": "https://localhost:8080/",
          "height": 74
        }
      },
      "source": [
        "c.description"
      ],
      "execution_count": 0,
      "outputs": [
        {
          "output_type": "execute_result",
          "data": {
            "text/plain": [
              "(('year', None, None, None, None, None, None),\n",
              " ('hh_debt', None, None, None, None, None, None),\n",
              " ('gdp', None, None, None, None, None, None))"
            ]
          },
          "metadata": {
            "tags": []
          },
          "execution_count": 73
        }
      ]
    },
    {
      "cell_type": "code",
      "metadata": {
        "id": "nu2PvLV_OJ8i",
        "colab_type": "code",
        "colab": {}
      },
      "source": [
        "import matplotlib.pyplot as plt\n",
        "import numpy as np"
      ],
      "execution_count": 0,
      "outputs": []
    },
    {
      "cell_type": "code",
      "metadata": {
        "id": "zhxiEaqub24d",
        "colab_type": "code",
        "outputId": "033e5f46-b673-4615-bcad-37dbc809cd39",
        "colab": {
          "base_uri": "https://localhost:8080/",
          "height": 265
        }
      },
      "source": [
        "years = [x[0] for x in data]\n",
        "debt = [x[1] for x in data]\n",
        "gdp = [x[2] for x in data]\n",
        "plt.scatter(years,debt)\n",
        "ax2 = plt.twinx()\n",
        "plt.plot(years,gdp,'--',lw=0.5,c='orange')\n",
        "plt.xticks(np.arange(1999,2019,2))\n",
        "plt.show()"
      ],
      "execution_count": 0,
      "outputs": [
        {
          "output_type": "display_data",
          "data": {
            "image/png": "[encoded data removed]",
            "text/plain": [
              "<Figure size 432x288 with 2 Axes>"
            ]
          },
          "metadata": {
            "tags": []
          }
        }
      ]
    },
    {
      "cell_type": "code",
      "metadata": {
        "id": "YMfWgym2hU7Z",
        "colab_type": "code",
        "outputId": "53bd6446-0956-4d08-e8e7-514fa6cb6e4d",
        "colab": {
          "base_uri": "https://localhost:8080/",
          "height": 55
        }
      },
      "source": [
        "np.arange(len(years))"
      ],
      "execution_count": 0,
      "outputs": [
        {
          "output_type": "execute_result",
          "data": {
            "text/plain": [
              "array([ 0,  1,  2,  3,  4,  5,  6,  7,  8,  9, 10, 11, 12, 13, 14, 15, 16,\n",
              "       17, 18, 19])"
            ]
          },
          "metadata": {
            "tags": []
          },
          "execution_count": 142
        }
      ]
    },
    {
      "cell_type": "code",
      "metadata": {
        "id": "PjFURy-8k8dY",
        "colab_type": "code",
        "outputId": "6a393917-8ee0-4b02-bfbb-da23e0728597",
        "colab": {
          "base_uri": "https://localhost:8080/",
          "height": 265
        }
      },
      "source": [
        "gdp = c.execute(\"select substr(date,0,5) year,gdp from GDP where substr(date,6,2)='10' and year>='1990'\").fetchall()\n",
        "gdp_years = [int(x[0]) for x in gdp]\n",
        "gdp_vals = [x[1] for x in gdp]\n",
        "plt.plot(gdp_years,gdp_vals,c='orange')\n",
        "plt.xticks(np.arange(1990,2020,3))\n",
        "plt.show()"
      ],
      "execution_count": 0,
      "outputs": [
        {
          "output_type": "display_data",
          "data": {
            "image/png": "[encoded data removed]",
            "text/plain": [
              "<Figure size 432x288 with 1 Axes>"
            ]
          },
          "metadata": {
            "tags": []
          }
        }
      ]
    },
    {
      "cell_type": "code",
      "metadata": {
        "id": "2zAZLkuim6FX",
        "colab_type": "code",
        "colab": {}
      },
      "source": [
        ""
      ],
      "execution_count": 0,
      "outputs": []
    }
  ]
}